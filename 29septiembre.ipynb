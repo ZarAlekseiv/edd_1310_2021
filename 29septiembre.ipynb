{
  "nbformat": 4,
  "nbformat_minor": 0,
  "metadata": {
    "colab": {
      "name": "Untitled0.ipynb",
      "provenance": [],
      "include_colab_link": true
    },
    "kernelspec": {
      "name": "python3",
      "display_name": "Python 3"
    }
  },
  "cells": [
    {
      "cell_type": "markdown",
      "metadata": {
        "id": "view-in-github",
        "colab_type": "text"
      },
      "source": [
        "<a href=\"https://colab.research.google.com/github/ZarAlekseiv/edd_1310_2021/blob/master/29septiembre.ipynb\" target=\"_parent\"><img src=\"https://colab.research.google.com/assets/colab-badge.svg\" alt=\"Open In Colab\"/></a>"
      ]
    },
    {
      "cell_type": "code",
      "metadata": {
        "id": "8Ii5YRn3sro3",
        "outputId": "45096a6d-94a7-4857-e2a2-efffb5b5851f",
        "colab": {
          "base_uri": "https://localhost:8080/",
          "height": 73
        }
      },
      "source": [
        "edad = 10\n",
        "print (edad)\n",
        "\n",
        "colores = ['rojo', 'azul', 'verde', 'morado','violeta']\n",
        "print(colores)\n",
        "colores[3]\n",
        "\n",
        "\n"
      ],
      "execution_count": null,
      "outputs": [
        {
          "output_type": "stream",
          "text": [
            "10\n",
            "['rojo', 'azul', 'verde', 'morado', 'violeta']\n"
          ],
          "name": "stdout"
        },
        {
          "output_type": "execute_result",
          "data": {
            "application/vnd.google.colaboratory.intrinsic+json": {
              "type": "string"
            },
            "text/plain": [
              "'morado'"
            ]
          },
          "metadata": {
            "tags": []
          },
          "execution_count": 5
        }
      ]
    },
    {
      "cell_type": "code",
      "metadata": {
        "id": "s_PeyeeEw7Ku",
        "outputId": "3067ebb7-7ec5-48b1-dbc3-f42f8d1c2ecd",
        "colab": {
          "base_uri": "https://localhost:8080/",
          "height": 54
        }
      },
      "source": [
        "print(colores[3][2:4])\n",
        "nombre = \"Alberto\"\n",
        "print(nombre[0:4])\n"
      ],
      "execution_count": null,
      "outputs": [
        {
          "output_type": "stream",
          "text": [
            "ra\n",
            "Albe\n"
          ],
          "name": "stdout"
        }
      ]
    },
    {
      "cell_type": "markdown",
      "metadata": {
        "id": "84YKtGPVyMzQ"
      },
      "source": [
        "#For en Python 3\n",
        "2 Variantes\n",
        "\n",
        "1. j in range(ini, tope, incremento)\n",
        "2. in [iterador]\n"
      ]
    },
    {
      "cell_type": "code",
      "metadata": {
        "id": "PjGRrJxUzIlI",
        "outputId": "c09bfe0b-4f35-4733-d1e0-52050356208a",
        "colab": {
          "base_uri": "https://localhost:8080/",
          "height": 109
        }
      },
      "source": [
        "for j in range(0,5,1):\n",
        "  print(colores[j])"
      ],
      "execution_count": null,
      "outputs": [
        {
          "output_type": "stream",
          "text": [
            "rojo\n",
            "azul\n",
            "verde\n",
            "morado\n",
            "violeta\n"
          ],
          "name": "stdout"
        }
      ]
    },
    {
      "cell_type": "code",
      "metadata": {
        "id": "G6HDNRJFz06a",
        "outputId": "221769fd-4634-478b-ce3d-fb1e6924e331",
        "colab": {
          "base_uri": "https://localhost:8080/",
          "height": 109
        }
      },
      "source": [
        "for color in colores:\n",
        "  print(color[0])"
      ],
      "execution_count": null,
      "outputs": [
        {
          "output_type": "stream",
          "text": [
            "r\n",
            "a\n",
            "v\n",
            "m\n",
            "v\n"
          ],
          "name": "stdout"
        }
      ]
    },
    {
      "cell_type": "code",
      "metadata": {
        "id": "xrWEA8hP0hIF",
        "outputId": "46d8bc8a-f21a-482b-ba31-869ad17514ae",
        "colab": {
          "base_uri": "https://localhost:8080/",
          "height": 146
        }
      },
      "source": [
        "for j in range(0, len(nombre),1):\n",
        "  print(nombre[j])"
      ],
      "execution_count": null,
      "outputs": [
        {
          "output_type": "stream",
          "text": [
            "A\n",
            "l\n",
            "b\n",
            "e\n",
            "r\n",
            "t\n",
            "o\n"
          ],
          "name": "stdout"
        }
      ]
    },
    {
      "cell_type": "code",
      "metadata": {
        "id": "ygZF2b1s08if",
        "outputId": "5cf4aaa7-36b6-4422-8de7-a6efa7ecd0aa",
        "colab": {
          "base_uri": "https://localhost:8080/",
          "height": 146
        }
      },
      "source": [
        "for nom in nombre:\n",
        "  print(nom) "
      ],
      "execution_count": null,
      "outputs": [
        {
          "output_type": "stream",
          "text": [
            "A\n",
            "l\n",
            "b\n",
            "e\n",
            "r\n",
            "t\n",
            "o\n"
          ],
          "name": "stdout"
        }
      ]
    },
    {
      "cell_type": "markdown",
      "metadata": {
        "id": "ieR9runn1kDv"
      },
      "source": [
        "#Qué es Markdown\n",
        "Markdown es un lenguaje de marcado para documentar codigo.\n",
        "El objetivo es simplificar la escritura del lenguaje HTML.\n",
        "___\n",
        "---\n",
        "**negritas**\n",
        "[Asies]\n",
        "\n",
        "![FES](https://i.kym-cdn.com/photos/images/newsfeed/001/650/747/aaf.png)\n"
      ]
    }
  ]
}
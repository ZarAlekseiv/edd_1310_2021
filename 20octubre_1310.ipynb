{
  "nbformat": 4,
  "nbformat_minor": 0,
  "metadata": {
    "colab": {
      "name": "20octubre_1310.ipynb",
      "provenance": [],
      "authorship_tag": "ABX9TyMKdLlBHRsblC/LH7dVH0Lj",
      "include_colab_link": true
    },
    "kernelspec": {
      "name": "python3",
      "display_name": "Python 3"
    }
  },
  "cells": [
    {
      "cell_type": "markdown",
      "metadata": {
        "id": "view-in-github",
        "colab_type": "text"
      },
      "source": [
        "<a href=\"https://colab.research.google.com/github/ZarAlekseiv/edd_1310_2021/blob/master/20octubre_1310.ipynb\" target=\"_parent\"><img src=\"https://colab.research.google.com/assets/colab-badge.svg\" alt=\"Open In Colab\"/></a>"
      ]
    },
    {
      "cell_type": "code",
      "metadata": {
        "id": "UZxEwg970NvZ",
        "outputId": "2553bb10-d008-449a-9a78-2ba49ccf3a6f",
        "colab": {
          "base_uri": "https://localhost:8080/",
          "height": 229
        }
      },
      "source": [
        "archivo = open('numeros.txt', 'rt')\n",
        "for linea in archivo.readlines():\n",
        "    for trunc in linea.split(\" , \"):\n",
        "        print(int(trunc.strip()))"
      ],
      "execution_count": 11,
      "outputs": [
        {
          "output_type": "error",
          "ename": "FileNotFoundError",
          "evalue": "ignored",
          "traceback": [
            "\u001b[0;31m---------------------------------------------------------------------------\u001b[0m",
            "\u001b[0;31mFileNotFoundError\u001b[0m                         Traceback (most recent call last)",
            "\u001b[0;32m<ipython-input-11-860cb7dd265e>\u001b[0m in \u001b[0;36m<module>\u001b[0;34m()\u001b[0m\n\u001b[0;32m----> 1\u001b[0;31m \u001b[0marchivo\u001b[0m \u001b[0;34m=\u001b[0m \u001b[0mopen\u001b[0m\u001b[0;34m(\u001b[0m\u001b[0;34m'numeros.txt'\u001b[0m\u001b[0;34m,\u001b[0m \u001b[0;34m'rt'\u001b[0m\u001b[0;34m)\u001b[0m\u001b[0;34m\u001b[0m\u001b[0;34m\u001b[0m\u001b[0m\n\u001b[0m\u001b[1;32m      2\u001b[0m \u001b[0;32mfor\u001b[0m \u001b[0mlinea\u001b[0m \u001b[0;32min\u001b[0m \u001b[0marchivo\u001b[0m\u001b[0;34m.\u001b[0m\u001b[0mreadlines\u001b[0m\u001b[0;34m(\u001b[0m\u001b[0;34m)\u001b[0m\u001b[0;34m:\u001b[0m\u001b[0;34m\u001b[0m\u001b[0;34m\u001b[0m\u001b[0m\n\u001b[1;32m      3\u001b[0m     \u001b[0;32mfor\u001b[0m \u001b[0mtrunc\u001b[0m \u001b[0;32min\u001b[0m \u001b[0mlinea\u001b[0m\u001b[0;34m.\u001b[0m\u001b[0msplit\u001b[0m\u001b[0;34m(\u001b[0m\u001b[0;34m\" , \"\u001b[0m\u001b[0;34m)\u001b[0m\u001b[0;34m:\u001b[0m\u001b[0;34m\u001b[0m\u001b[0;34m\u001b[0m\u001b[0m\n\u001b[1;32m      4\u001b[0m         \u001b[0mprint\u001b[0m\u001b[0;34m(\u001b[0m\u001b[0mint\u001b[0m\u001b[0;34m(\u001b[0m\u001b[0mtrunc\u001b[0m\u001b[0;34m.\u001b[0m\u001b[0mstrip\u001b[0m\u001b[0;34m(\u001b[0m\u001b[0;34m)\u001b[0m\u001b[0;34m)\u001b[0m\u001b[0;34m)\u001b[0m\u001b[0;34m\u001b[0m\u001b[0;34m\u001b[0m\u001b[0m\n",
            "\u001b[0;31mFileNotFoundError\u001b[0m: [Errno 2] No such file or directory: 'numeros.txt'"
          ]
        }
      ]
    },
    {
      "cell_type": "markdown",
      "metadata": {
        "id": "_kAIPELy2soi"
      },
      "source": [
        "# sintaxis del for en python\n",
        "\n",
        "dos versiones de for \n",
        "1. range\n",
        "2. in iterator"
      ]
    },
    {
      "cell_type": "code",
      "metadata": {
        "id": "eRupr24S24BK"
      },
      "source": [
        "r = (range(0,10,2))   # (0 inicio, 10 final , 2 de cuanto en cuanto) pinta del 0 al 9\n",
        "for x in r:\n",
        "    print(x)\n",
        "\n",
        "colores = ['rojo' , 'rosa', 'azul' , 'fucsia'] # [] = es una lista\n",
        "for indice in range(0,4,1): # for (indice = 0; indice < 4; indice ++)  # len(colores),1  ___ de cuantos elemeentos es la lista\n",
        "    #print(colores[indice])  # usar para indices de listas y para modificar \n",
        "    colores[indice] = colores[indice].upper() #asigna el valor interno a mayusculas\n",
        "    #colores[indice] = \"blanco\"\n",
        "# for sbre un iterador\n",
        "\n",
        "for col in colores:  # el for funciona sobre un  iterable como range\n",
        "    print(col)        # para mostrar lista\n",
        "\n"
      ],
      "execution_count": null,
      "outputs": []
    },
    {
      "cell_type": "markdown",
      "metadata": {
        "id": "V5KVxCTE7-sE"
      },
      "source": [
        "# generadores\n",
        "\n",
        "[ \"hola\" for x in range(10) ] #entre corchetes indica \n",
        "\n"
      ]
    },
    {
      "cell_type": "code",
      "metadata": {
        "id": "l_jT1WYy8aTI"
      },
      "source": [
        "lista = [\"hola\" for x in range (10)  ] # imprime 190 veces hola en forma de lista\n",
        "print(lista)\n",
        "\n"
      ],
      "execution_count": null,
      "outputs": []
    },
    {
      "cell_type": "code",
      "metadata": {
        "id": "dzbRI7b4-osN"
      },
      "source": [
        "lista = [ [0 for x in range(3)] for z in range(3)] # imprime 3 veces \n",
        "print(lista)"
      ],
      "execution_count": null,
      "outputs": []
    },
    {
      "cell_type": "code",
      "metadata": {
        "id": "Mj-qCdMr-aAT"
      },
      "source": [
        "ren = 3\n",
        "col = 3\n",
        "lista = [ [0 for x in range(col)] for z in range(ren)] # 3 renglones y 3 columnas ; dimesion de los arreglos\n",
        "print(lista)"
      ],
      "execution_count": null,
      "outputs": []
    },
    {
      "cell_type": "markdown",
      "metadata": {
        "id": "s2p8AgN5_a-Y"
      },
      "source": [
        "# POO en Python  \n",
        "    SIMULA LA ORIENTACION A OBJETOS\n",
        "- clase\n",
        "- creacion de objetos\n",
        "- constructor\n",
        "- encapsulamiento\n",
        "- metodos\n",
        "- atributos\n",
        "- herencia"
      ]
    },
    {
      "cell_type": "code",
      "metadata": {
        "id": "8yNBkxGr_c5_",
        "outputId": "56197cd4-669b-4888-c1d1-fd5201d01fad",
        "colab": {
          "base_uri": "https://localhost:8080/",
          "height": 54
        }
      },
      "source": [
        "class Computadora:\n",
        "    def __init__( self , m , p ):  #son dos guion bajo\n",
        "        self.__marca = m\n",
        "        self.__procesador = p\n",
        "\n",
        "          #print(\"Creando el objeto...\")\n",
        "\n",
        "    def to_string( self ): #self ajustar para POO\n",
        "        return \"-Marca: \" + self.__marca + \" \\n-Procesador: \" + self.__procesador\n",
        "\n",
        "mi_pc = Computadora(\"Toshiba\" , \"Intel i7\"  )\n",
        "mi_pc.___marca = \" HP \"\n",
        "\n",
        "print(mi_pc.to_string())"
      ],
      "execution_count": 38,
      "outputs": [
        {
          "output_type": "stream",
          "text": [
            "-Marca: Toshiba \n",
            "-Procesador: Intel i7\n"
          ],
          "name": "stdout"
        }
      ]
    }
  ]
}
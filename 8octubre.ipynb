{
  "nbformat": 4,
  "nbformat_minor": 0,
  "metadata": {
    "colab": {
      "name": "8octubre.ipynb",
      "provenance": [],
      "authorship_tag": "ABX9TyPmY1sY4Q+qv0r9/zYS5yML",
      "include_colab_link": true
    },
    "kernelspec": {
      "name": "python3",
      "display_name": "Python 3"
    }
  },
  "cells": [
    {
      "cell_type": "markdown",
      "metadata": {
        "id": "view-in-github",
        "colab_type": "text"
      },
      "source": [
        "<a href=\"https://colab.research.google.com/github/ZarAlekseiv/edd_1310_2021/blob/master/8octubre.ipynb\" target=\"_parent\"><img src=\"https://colab.research.google.com/assets/colab-badge.svg\" alt=\"Open In Colab\"/></a>"
      ]
    },
    {
      "cell_type": "code",
      "metadata": {
        "id": "1IFCu-Kk_Rhk",
        "outputId": "efdc0a63-314e-44e1-99eb-92b49331f2e7",
        "colab": {
          "base_uri": "https://localhost:8080/",
          "height": 109
        }
      },
      "source": [
        "#Lista  Multi dimension\n",
        "monitores =[[\"Samsung\",\"17.3 \\\"\",1024],[\"BenQ\",\"40\\\"\",2048]]\n",
        "procesadores = [[\"Intel\",\"i7\",3.4],[\"AMD\",\"razzer\",3.3],[\"Intel\",\"i3\",3.1]]\n",
        "memorias = [[\"Kingston\", \"8GB\",\"DDR4\"],[\"Kingston\", \"16GB\",\"DDR3\"],[\"ADATA\", \"32GB\",\"DDR4\"]]\n",
        "\n",
        "componentes = [monitores,procesadores,memorias]\n",
        "\n",
        "print(componentes[1])\n",
        "print(componentes[2][1][1])\n",
        "print(componentes[0][1][2]*2)\n",
        "print(componentes[1][1][1][1:4])\n",
        "print(componentes[2][2][0].lower())\n",
        "\n",
        "componentes[2].append(\"patito\",\"32 GB\", \"DDR4\")\n",
        "print(componentes[2])"
      ],
      "execution_count": 30,
      "outputs": [
        {
          "output_type": "stream",
          "text": [
            "[['Intel', 'i7', 3.4], ['AMD', 'razzer', 3.3], ['Intel', 'i3', 3.1]]\n",
            "16GB\n",
            "4096\n",
            "azz\n",
            "adata\n"
          ],
          "name": "stdout"
        }
      ]
    },
    {
      "cell_type": "markdown",
      "metadata": {
        "id": "IT_vz1zhH25x"
      },
      "source": [
        "#copiar listas\n",
        "#extendervlistas\n",
        "\n",
        "frutas = (\"manzana\", \"pera\")\n",
        "print(frutas)\n",
        "frutas.append(\"limon\")\n",
        "print frutas"
      ]
    },
    {
      "cell_type": "code",
      "metadata": {
        "id": "63IgtY_EISqu",
        "outputId": "0073ddf7-32b8-4324-cd51-157eecfe3b20",
        "colab": {
          "base_uri": "https://localhost:8080/",
          "height": 257
        }
      },
      "source": [
        "#copiar listas\n",
        "#extender listas\n",
        "\n",
        "frutas = [\"manzana\", \"pera\"]\n",
        "otras_frutas = [\"Aguacate\", \"Sandía\"]\n",
        "\n",
        "#+ sobre listas\n",
        "#frutas = frutas + otras_frutas\n",
        "#print(frutas)\n",
        "\n",
        "#funcion extend modifica la lista\n",
        "\n",
        "frutas.extend(otras_frutas)\n",
        "#\n",
        "\n",
        "frutas.append(otras_frutas)\n",
        "print(frutas)\n",
        "\n",
        "print(frutas)\n",
        "frutas.append(\"limon\")\n",
        "print(frutas)\n",
        "\n",
        "#copiar\n",
        "\n",
        "colores =[\"azul\", \"rojo\", \"verde\", \"violeta\"]\n",
        "otros_colores = colores\n",
        "print(colores)\n",
        "print(otros_colores)\n",
        "\n",
        "otros_colores.append(\"Rosa\")\n",
        "print(colores)\n",
        "print(otros_colores)\n",
        "\n",
        "#.copy \n",
        "una_mas = colores.copy()\n",
        "print(una_mas)\n",
        "una_mas.append(\"Gris\")\n",
        "print(una_mas)\n",
        "print(colores)\n",
        "\n",
        "#unpacking de listas\n",
        "\n",
        "alumno = [\"Alexis\",\"Peña\", \"Vega\", 22 , \"ICO\", 10.0]\n",
        "nombre =alumno[0]\n",
        "paterno = alumno[1]\n",
        "\n",
        "nombre, paterno, materno, edad, carrera, promedio = alumno\n",
        "print(f\"Alumno: {nombre} {paterno} {materno}\\nCarrera: {carrera}\\nPromedio: {promedio}\")"
      ],
      "execution_count": 56,
      "outputs": [
        {
          "output_type": "stream",
          "text": [
            "['manzana', 'pera', 'Aguacate', 'Sandía', ['Aguacate', 'Sandía']]\n",
            "['manzana', 'pera', 'Aguacate', 'Sandía', ['Aguacate', 'Sandía']]\n",
            "['manzana', 'pera', 'Aguacate', 'Sandía', ['Aguacate', 'Sandía'], 'limon']\n",
            "['azul', 'rojo', 'verde', 'violeta']\n",
            "['azul', 'rojo', 'verde', 'violeta']\n",
            "['azul', 'rojo', 'verde', 'violeta', 'Rosa']\n",
            "['azul', 'rojo', 'verde', 'violeta', 'Rosa']\n",
            "['azul', 'rojo', 'verde', 'violeta', 'Rosa']\n",
            "['azul', 'rojo', 'verde', 'violeta', 'Rosa', 'Gris']\n",
            "['azul', 'rojo', 'verde', 'violeta', 'Rosa']\n",
            "Alumno: Alexis Peña Vega\n",
            "Carrera: ICO\n",
            "Promedio: 10.0\n"
          ],
          "name": "stdout"
        }
      ]
    },
    {
      "cell_type": "markdown",
      "metadata": {
        "id": "p80GVNRnR2DR"
      },
      "source": [
        "#Tuplas\n",
        "- se declaran ( )\n",
        "-selector [ ]\n",
        "-NO son mutables"
      ]
    },
    {
      "cell_type": "code",
      "metadata": {
        "id": "OoV__8HUSM74"
      },
      "source": [
        "#TUPLAS SON SOLO PARA COSULTA\n",
        "#COUNT E INDEX SOLO SE  PUEDEN USAR \n",
        "\n",
        "precios = (99.9, 49.9, 12.45, 23.3, 33.44, 55.66 )\n",
        "print(precios[1])\n",
        "#precios[1] = 50.0\n",
        "print(precios)\n",
        "print(precios[2:4])"
      ],
      "execution_count": null,
      "outputs": []
    },
    {
      "cell_type": "markdown",
      "metadata": {
        "id": "KeepufNsTlMj"
      },
      "source": [
        "#Diccionarios\n",
        "- Se declaran con ()\n",
        "- si son mutables\n",
        "- conjunto de pares llave: valor\n",
        "- equilaente a los Objetos JSON de JavaScript\n",
        "- selector [str]"
      ]
    },
    {
      "cell_type": "code",
      "metadata": {
        "id": "Bp-bSzQHT7U6",
        "outputId": "a6ce2738-a70f-4ba8-bcd3-25f3c5e62d51",
        "colab": {
          "base_uri": "https://localhost:8080/",
          "height": 148
        }
      },
      "source": [
        "cliente = {  }\n",
        "print(cliente)\n",
        "alumno = {  \"num_cta\" : 420118370}\n",
        "print(alumno)\n",
        "\n",
        "alumno = {  \n",
        "    \"num_cta\" : 420118370, \n",
        "    \"carrera\"  : \"ICO\",  \n",
        "    \"Promedio\"  : 9.8,  \n",
        "    \"Materias\"  : [\"EDD\", \"CyP\", \"Emprendimiento\"],\n",
        "    \"Direccion\" : {\"Calle\"  : \"Rancho Seco\",\n",
        "                   \n",
        "                   \"Número\" : 23,\n",
        "                   \"Municipio\"  : \"Neza\",\n",
        "                   \"Entidad\"  :{ \n",
        "                        \n",
        "                       \"id\" : \"15\",\n",
        "                       \"Nombre\"  : \"Estado de México\",\n",
        "                       \"Nombre_corto\" : \"EdoMex\"\n",
        "                   },\n",
        "                   \n",
        "                   \"CP\" : 57000\n",
        "                   \n",
        "                   }\n",
        "\n",
        "    }\n",
        "\n",
        "print(alumno)\n",
        "print(alumno['Materias'])\n",
        "print(alumno[\"Promedio\"])\n",
        "print(alumno[\"Direccion\"]['Entidad']['Nombre_corto'])\n"
      ],
      "execution_count": 66,
      "outputs": [
        {
          "output_type": "stream",
          "text": [
            "{}\n",
            "{'num_cta': 420118370}\n",
            "{'num_cta': 420118370, 'carrera': 'ICO', 'Promedio': 9.8, 'Materias': ['EDD', 'CyP', 'Emprendimiento'], 'Direccion': {'Calle': 'Rancho Seco', 'Número': 23, 'Municipio': 'Neza', 'Entidad': {'id': '15', 'Nombre': 'Estado de México', 'Nombre_corto': 'EdoMex'}, 'CP': 57000}}\n",
            "['EDD', 'CyP', 'Emprendimiento']\n",
            "9.8\n",
            "EdoMex\n"
          ],
          "name": "stdout"
        }
      ]
    }
  ]
}
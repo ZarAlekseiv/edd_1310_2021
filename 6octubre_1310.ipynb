{
  "nbformat": 4,
  "nbformat_minor": 0,
  "metadata": {
    "colab": {
      "name": "6octubre_1310.ipynb",
      "provenance": [],
      "collapsed_sections": [],
      "authorship_tag": "ABX9TyOrhQKUIfJE3l2U0+3ufnOe",
      "include_colab_link": true
    },
    "kernelspec": {
      "name": "python3",
      "display_name": "Python 3"
    }
  },
  "cells": [
    {
      "cell_type": "markdown",
      "metadata": {
        "id": "view-in-github",
        "colab_type": "text"
      },
      "source": [
        "<a href=\"https://colab.research.google.com/github/ZarAlekseiv/edd_1310_2021/blob/master/6octubre_1310.ipynb\" target=\"_parent\"><img src=\"https://colab.research.google.com/assets/colab-badge.svg\" alt=\"Open In Colab\"/></a>"
      ]
    },
    {
      "cell_type": "code",
      "metadata": {
        "id": "1Q9KnhQSrC0B"
      },
      "source": [
        "numeros_txt = \"1, 2, 3, 4, 5, 35, 15, 12,\"\n",
        "print(numeros_txt)\n",
        "numeros_txt = numeros_txt.lstrip().split(',')\n",
        "print(numeros_txt)\n",
        "\n",
        "for j in range(len(numeros_txt)):\n",
        "  numeros_txt [ j ] = int (numeros_txt[j].strip())\n",
        "\n",
        "print(numeros_txt)\n",
        "\n",
        "\n",
        "# Funcion range()\n",
        "\n",
        "range(inicio, stop, incremento)\n",
        "print(range(0, 10, 1))\n",
        "rango = range(1, 10, 2)\n",
        "\n",
        "for x in rango:\n",
        "    print(x)\n",
        "\n",
        "rango = range(10)\n",
        "for x in rango:\n",
        "  print(x)"
      ],
      "execution_count": null,
      "outputs": []
    },
    {
      "cell_type": "code",
      "metadata": {
        "id": "oRScM8qFw1xU"
      },
      "source": [
        ""
      ],
      "execution_count": null,
      "outputs": []
    },
    {
      "cell_type": "code",
      "metadata": {
        "id": "gPKIsZdYw2TR"
      },
      "source": [
        "\n",
        "# Funcion range()\n",
        "\n",
        "#range(inicio, stop, incremento)\n",
        "print(range(0, 10, 1))\n",
        "rango = range(1, 10, 2)\n",
        "\n",
        "for x in rango:\n",
        "    print(x)\n",
        "\n",
        "rango = range(10)\n",
        "for x in rango:\n",
        "  print(x)"
      ],
      "execution_count": null,
      "outputs": []
    },
    {
      "cell_type": "markdown",
      "metadata": {
        "id": "q-ctD0ibxFhE"
      },
      "source": [
        "#listas\n",
        "- notables\n",
        "-declaran  []\n",
        "-selector [ int ]\n",
        "\n",
        "#tuplas\n",
        "- NO mutables \n",
        "-se declaran con ()\n",
        "-selector [ int ]\n",
        "\n",
        "#diccionario\n",
        "- son mutables\n",
        "-son conjunto de pares de llave: valor\n",
        "-equivalentes alos Objetos JSON de JavaScript\n",
        "\n",
        "#conjuntos\n",
        "- REPRESENTACION DE LA TEORIA DE CONJUNTOS"
      ]
    },
    {
      "cell_type": "code",
      "metadata": {
        "id": "u6WVHU13yUJO"
      },
      "source": [
        "#Listas\n",
        "frutas = [\"Pera\", \"Manzana\", \"Fresas\", \"Kiwi\", \"Naranja\"]\n",
        "print(frutas) \n",
        "cosas = [\"Cuaderno\", 2, 3.1416, True, False, [\"Rojo\", \"Azul\"]]\n",
        "print(cosas)\n",
        "frutas[2]=\"Fresa\" #frutas = frutas[2].capitalize()\n",
        "print(frutas)     #help(list) : NO usar los que esten con guion bajo\n",
        "\n",
        "#agregar a lista\n",
        "frutas.append(\"Aguacate\")\n",
        "print(frutas)\n",
        "frutas.insert(2, \"Sandía\") # Se inserto en el segundo lugar = Manzana\n",
        "print(frutas)\n",
        "\n",
        "#Concatenar elementos\n",
        "fecha = [\"06\", \"10\", \"2020\"] # 06/10/2020\n",
        "print(fecha)\n",
        "fecha_str = \"/\".join(fecha)\n",
        "print(fecha_str)\n",
        "\n",
        "#eliminar elementos\n"
      ],
      "execution_count": null,
      "outputs": []
    },
    {
      "cell_type": "code",
      "metadata": {
        "id": "tEIFeguqzkcf"
      },
      "source": [
        "# eliminar elementos\n",
        "print(cosas)\n",
        "cosas.append(\"Libro\")\n",
        "cosas.append(\"Lapiz\")\n",
        "print(cosas)\n",
        "algo = cosas.pop()\n",
        "print(algo)\n",
        "print(cosas)\n",
        "\n",
        "algo = cosas.pop(2)\n",
        "print(cosas)\n",
        "print(algo)\n",
        "#cosas.remove(2)\n",
        "print(cosas)\n",
        "\n",
        "#vacias cosas\n",
        "#cosas.clear()\n",
        "print(cosas)\n",
        "\n",
        "#ordenar\n",
        "print(frutas)\n",
        "frutas.sort()\n",
        "print(frutas)\n",
        "cosas.sort()\n",
        "print(cosas)"
      ],
      "execution_count": null,
      "outputs": []
    },
    {
      "cell_type": "code",
      "metadata": {
        "id": "akKbg_pH7I6V"
      },
      "source": [
        "#Slicing\n",
        "\n",
        "cosas = [\"Cuaderno\", 2, 3.1416, True, False, [\"Rojo\", \"Azul\"]]\n",
        "print(cosas[3:5:1])\n",
        "print(cosas)\n",
        "print(cosas[0][3:5:1])\n",
        "\n",
        "numeros = (0,1,2,3,4,5,6,7,8,9,10,11,12,13,14,15)\n",
        "print(numeros[8:13:1]) #POSICION INICIAL: TOPE: INCREMENTO\n",
        "\n",
        "#Sustituir rebanadas\n",
        "\n",
        "numeros[8:13:] = [-2,-2]\n",
        "print(numeros)\n",
        "\n",
        "#Pregunatr por existencia\n",
        "print(100 in numeros)\n",
        "\n"
      ],
      "execution_count": null,
      "outputs": []
    },
    {
      "cell_type": "markdown",
      "metadata": {
        "id": "BwlroJKg-oNM"
      },
      "source": [
        "LISTAS MULT DIMENSIÓN\n",
        "\n",
        "Listas dentro listas\n"
      ]
    },
    {
      "cell_type": "code",
      "metadata": {
        "id": "Q1caGs-5-vGM",
        "outputId": "47721f47-3455-4448-ec0f-ac2430f711e1",
        "colab": {
          "base_uri": "https://localhost:8080/",
          "height": 185
        }
      },
      "source": [
        "computadoras = [\"HP\", \"Mac Book Pro 17\", \"Mate Book\", \"Lenovo Legion\" ]\n",
        "oss = [\"Windows 10\", \"Linux\", \"Android\", \"iOS\", ]\n",
        "\n",
        "computo = [computadoras, oss]\n",
        "print(computo[0])\n",
        "print(computo[1])\n",
        "print(computo[0][2][0:5])\n",
        "print(computo[0][3][-8: : -1])\n",
        "print(\"Linux\" in computo[1])\n",
        "\n",
        "dbms = [\"MySQL\", \"Open Source\", False ] , [\"MS SQL\", \"De paga\", True ]\n",
        "computo.append(dbms)\n",
        "print(computo)\n",
        "print(computo[2][0][0])\n",
        "print(computo[2][1][1])"
      ],
      "execution_count": 76,
      "outputs": [
        {
          "output_type": "stream",
          "text": [
            "['HP', 'Mac Book Pro 17', 'Mate Book', 'Lenovo Legion']\n",
            "['Windows 10', 'Linux', 'Android', 'iOS']\n",
            "Mate \n",
            "ovoneL\n",
            "True\n",
            "[['HP', 'Mac Book Pro 17', 'Mate Book', 'Lenovo Legion'], ['Windows 10', 'Linux', 'Android', 'iOS'], (['MySQL', 'Open Source', False], ['MS SQL', 'De paga', True])]\n",
            "MySQL\n",
            "De paga\n"
          ],
          "name": "stdout"
        }
      ]
    }
  ]
}
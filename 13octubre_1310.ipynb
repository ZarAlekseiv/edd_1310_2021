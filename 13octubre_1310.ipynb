{
  "nbformat": 4,
  "nbformat_minor": 0,
  "metadata": {
    "colab": {
      "name": "13octubre_1310.ipynb",
      "provenance": [],
      "collapsed_sections": [],
      "authorship_tag": "ABX9TyPWipYF9gt2VkiuNBt8rvQS",
      "include_colab_link": true
    },
    "kernelspec": {
      "name": "python3",
      "display_name": "Python 3"
    }
  },
  "cells": [
    {
      "cell_type": "markdown",
      "metadata": {
        "id": "view-in-github",
        "colab_type": "text"
      },
      "source": [
        "<a href=\"https://colab.research.google.com/github/ZarAlekseiv/edd_1310_2021/blob/master/13octubre_1310.ipynb\" target=\"_parent\"><img src=\"https://colab.research.google.com/assets/colab-badge.svg\" alt=\"Open In Colab\"/></a>"
      ]
    },
    {
      "cell_type": "code",
      "metadata": {
        "id": "q1Ice8pMuBiL"
      },
      "source": [
        "alumno = { \n",
        "          \"num_cta\" : 303030303 ,\n",
        "          \"carrera\" : \"ICO\",\n",
        "          \"promedio\" : 9.8,\n",
        "          \"materias\" :[\"EDD\",\"CyP\",\"Calidad\",\"Emprendimiento\"],\n",
        "          \"direccion\" : { \n",
        "                            \"calle\":\"rancho seco\",\n",
        "                            \"numero\" : 23 ,\n",
        "                            \"delegacion\" : \"Neza\",\n",
        "                            \"estado\" : {\n",
        "                                        \"id\" : 15 ,\n",
        "                                        \"nombre\" : \"Estado de Máxico\" ,\n",
        "                                        \"nombre_corto\" : \"EdoMex\"\n",
        "                                        } ,\n",
        "                            \"CP\":57170\n",
        "\n",
        "                        } \n",
        "          }\n",
        "\n",
        "print(alumno)\n",
        "alumno[\"carrera\"] = \"Ingenieria en Computación\"\n",
        "print(alumno)\n",
        "alumno[\"nombre_completo\"] = {\"primer\": \"Juan\",\n",
        "                            'segundo': \"Pedro\",\n",
        "                            'materno': \"Pérez\",\n",
        "                            'patertno': 'Gómez'\n",
        "                            }\n",
        "alumno[semestre]=3\n",
        "print(alumno)\n",
        "alumno(f'{alumno['nombre_completo']['primer']} {alumno['nombre_completo']['segundo']}')\n",
        "\n"
      ],
      "execution_count": null,
      "outputs": []
    },
    {
      "cell_type": "markdown",
      "metadata": {
        "id": "k6yNNiuODtCS"
      },
      "source": [
        "CON ESTOS METODOS"
      ]
    },
    {
      "cell_type": "code",
      "metadata": {
        "id": "oJrHSG3FyXeY"
      },
      "source": [
        "## Metodos de key(), values(), items()\n",
        "\n",
        "llaves =alumno.keys()\n",
        "print(llaves)\n",
        "for llave in llaves:\n",
        "  print(llave.upper())\n",
        "\n",
        "  valores = alumno.values()\n",
        "  for val in valores:\n",
        "    print(val)\n",
        "\n",
        "pares= alumno.items()\n",
        "print(pares)\n",
        "  for elem in pares:\n",
        "    print(f\"elcampo{elem[0]} tiene el valor {elem[1]}\")\n"
      ],
      "execution_count": null,
      "outputs": []
    },
    {
      "cell_type": "code",
      "metadata": {
        "id": "5m5qpc_U1B1d",
        "outputId": "89e63935-7d72-4c4c-e7bb-41c4d0f2682c",
        "colab": {
          "base_uri": "https://localhost:8080/",
          "height": 35
        }
      },
      "source": [
        "#concatenar diccionarios\n",
        "computadoras = {\"procesador\": \"Intel i7\", \"ram \": \"Kingston 128GB\"}\n",
        "otros = {\"monitor\": \"LG 49\\\"\", \"hd\":\"Toshiba 1TB\"}\n",
        "computadoras.update(otros)\n",
        "print (computadoras)"
      ],
      "execution_count": 17,
      "outputs": [
        {
          "output_type": "stream",
          "text": [
            "{'procesador': 'Intel i7', 'ram ': 'Kingston 128GB', 'monitor': 'LG 49\"', 'hd': 'Toshiba 1TB'}\n"
          ],
          "name": "stdout"
        }
      ]
    },
    {
      "cell_type": "markdown",
      "metadata": {
        "id": "XFuncZL12qqK"
      },
      "source": [
        "#funciones\n",
        "- unidades  de codigo reuilizable\n",
        "-es un mecanismo de organizacion de codigo\n",
        "-Una funcion toma de 0  a n parametros de entrada\n",
        "-tiene una sola salida(return) de cualquier tipo de dato\n",
        "- solo pudes hacer dos cosas:\n",
        "\n",
        "  - definirla\n",
        "  -llamarlas\n",
        "- se define con la palabra  reservada 'def'"
      ]
    },
    {
      "cell_type": "code",
      "metadata": {
        "id": "qjOlF1R-3_kb",
        "outputId": "d606d2ec-fa88-420a-9678-13f4071ee3aa",
        "colab": {
          "base_uri": "https://localhost:8080/",
          "height": 165
        }
      },
      "source": [
        "#0\n",
        "def sumar ( x , y ):\n",
        "    resultado = x + y\n",
        "    return resultado\n",
        "\n",
        "#1\n",
        "def saludar( nombre ):\n",
        "  print(f\"Hola {nombre}, ¿Cómo estás?\")\n",
        "  #return None\n",
        "\n",
        "#procesar None\n",
        "#2\n",
        "def multiplicar( valor, veces ):\n",
        "    if valor != None:\n",
        "        c = valor * veces\n",
        "    else:\n",
        "        c = \"opercaion no valida\"\n",
        "    return c  \n",
        "#3\n",
        "def operacion( a , b , c )\n",
        "  res = a + (b/c)\n",
        "  return res\n",
        "\n",
        "\n",
        "#0\n",
        "print(sumar( 10 , 5 ))\n",
        "print(sumar( 2 , 6 ))\n",
        "c = sumar( 3 ,  7)\n",
        "print(c)\n",
        "\n",
        "#1\n",
        "saludar( \"Jesús\" )\n",
        "print(saludar( 'José'))\n",
        "\n",
        "#2\n",
        "print(multiplicar( 5 , 6))\n",
        "print(multiplicar( None , 6 ))\n",
        "\n",
        "#3\n",
        "print(operaciones( 2 , 9 , 3))\n",
        "print(operaciones( 2 , 3 , 9))\n",
        "\n"
      ],
      "execution_count": 30,
      "outputs": [
        {
          "output_type": "stream",
          "text": [
            "15\n",
            "8\n",
            "10\n",
            "Hola Jesús, ¿Cómo estás?\n",
            "Hola José, ¿Cómo estás?\n",
            "None\n",
            "30\n",
            "opercaion no valida\n"
          ],
          "name": "stdout"
        }
      ]
    },
    {
      "cell_type": "code",
      "metadata": {
        "id": "peFfu_Pp-juo"
      },
      "source": [
        "# Valores por defecto\n",
        "def comanda( primer , fuerte , postre = \"Galletas de animalito\"):\n",
        "    print(f\"De entrada pidió: { primer }\")\n",
        "    print(f\"De plato fuerte: { fuerte }\")\n",
        "    print(f\"Postre: { postre }\")\n",
        "\n",
        "#argumentos posicionales con tuplas *\n",
        "def comanda_2( *opciones ):\n",
        "    print(f\"De entrada pidió: { opciones[0] }\")\n",
        "    print(f\"De plato fuerte: { opciones[1] }\")\n",
        "    print(f\"Postre: { opciones[2] }\")\n",
        "    print(\"\\nIndicaciones extras\")\n",
        "\n",
        "    for ind in opciones[3::]:\n",
        "        print(f\"\\t {ind}\")\n",
        "\n",
        "\n",
        "\n",
        "comanda(\"Sopa do macaco\", \"Tortas  de papa\", \"Gelatina de Limón \\n\")\n",
        "comanda(\"Sopa do macaco\", \"Tortas  de papa\\n\" )\n",
        "\n",
        "comanda_2(\"Sopa do macaco\", \"Tortas  de papa\", \n",
        "          \"Gelatina de Limón\", \"Las Tortas bien chidas\", \n",
        "          \"traer dos limoneiros\", \"Agua con hielo\\n\")\n"
      ],
      "execution_count": null,
      "outputs": []
    },
    {
      "cell_type": "code",
      "metadata": {
        "id": "pF_qGq9pB6Gq",
        "outputId": "223c7240-4cf9-477c-9006-d88c4cddddb8",
        "colab": {
          "base_uri": "https://localhost:8080/",
          "height": 185
        }
      },
      "source": [
        "#Argumentos poscionales de diccionarios **\n",
        "\n",
        "def comanda_3( **opciones ):\n",
        "    print(opciones)\n",
        "    for op in opciones.items():\n",
        "        print(f\"{op[0]} -> {op[1]}\")\n",
        "        \n",
        "comanda_3(primer = \"Sopa do macaco\", \n",
        "          fuerte = \"Tortas  de papa\", \n",
        "          postre = \"Gelatina de Limón\", \n",
        "          extra1 = \"Las Tortas bien chidas\", \n",
        "          extra2 = \"traer dos limoneiros\", \n",
        "          extra3 = \"Agua con hielo\\n\")    \n"
      ],
      "execution_count": 44,
      "outputs": [
        {
          "output_type": "stream",
          "text": [
            "{'primer': 'Sopa do macaco', 'fuerte': 'Tortas  de papa', 'postre': 'Gelatina de Limón', 'extra1': 'Las Tortas bien chidas', 'extra2': 'traer dos limoneiros', 'extra3': 'Agua con hielo\\n'}\n",
            "primer -> Sopa do macaco\n",
            "fuerte -> Tortas  de papa\n",
            "postre -> Gelatina de Limón\n",
            "extra1 -> Las Tortas bien chidas\n",
            "extra2 -> traer dos limoneiros\n",
            "extra3 -> Agua con hielo\n",
            "\n"
          ],
          "name": "stdout"
        }
      ]
    }
  ]
}
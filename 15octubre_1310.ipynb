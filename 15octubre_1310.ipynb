{
  "nbformat": 4,
  "nbformat_minor": 0,
  "metadata": {
    "colab": {
      "name": "15octubre_1310.ipynb",
      "provenance": [],
      "collapsed_sections": [],
      "authorship_tag": "ABX9TyMoHzlq5qnAY2LT2c0NtHtK",
      "include_colab_link": true
    },
    "kernelspec": {
      "name": "python3",
      "display_name": "Python 3"
    }
  },
  "cells": [
    {
      "cell_type": "markdown",
      "metadata": {
        "id": "view-in-github",
        "colab_type": "text"
      },
      "source": [
        "<a href=\"https://colab.research.google.com/github/ZarAlekseiv/edd_1310_2021/blob/master/15octubre_1310.ipynb\" target=\"_parent\"><img src=\"https://colab.research.google.com/assets/colab-badge.svg\" alt=\"Open In Colab\"/></a>"
      ]
    },
    {
      "cell_type": "code",
      "metadata": {
        "id": "Cd-XkjN8CNhP"
      },
      "source": [
        ""
      ],
      "execution_count": null,
      "outputs": []
    },
    {
      "cell_type": "markdown",
      "metadata": {
        "id": "6yP987-iCVVY"
      },
      "source": [
        "- módulos\n",
        "\n",
        "Son "
      ]
    },
    {
      "cell_type": "code",
      "metadata": {
        "id": "diuKJG3ZCU1x",
        "outputId": "7ed4ed91-9d78-4329-8048-11d12338a7db",
        "colab": {
          "base_uri": "https://localhost:8080/",
          "height": 54
        }
      },
      "source": [
        "\"\"\"import mi_modulo\n",
        "\n",
        "x = mi_modulo.sumar( 4 , 7 )\n",
        "\n",
        "print(x)\n",
        "\n",
        "print(mi_modulo.multiplicar(3 , 5))\n",
        "\"\"\"\n",
        "\n"
      ],
      "execution_count": 5,
      "outputs": [
        {
          "output_type": "stream",
          "text": [
            "11\n",
            "15\n"
          ],
          "name": "stdout"
        }
      ]
    },
    {
      "cell_type": "code",
      "metadata": {
        "id": "s9KyUEkBFI9A",
        "outputId": "1bddb37d-27cc-4c2a-939a-c585333f413b",
        "colab": {
          "base_uri": "https://localhost:8080/",
          "height": 54
        }
      },
      "source": [
        "from mi_modulo import sumar, dividir\n",
        "\n",
        "print(sumar( 4 , 7))\n",
        "print(dividir( 14, 7))"
      ],
      "execution_count": 11,
      "outputs": [
        {
          "output_type": "stream",
          "text": [
            "11\n",
            "2.0\n"
          ],
          "name": "stdout"
        }
      ]
    },
    {
      "cell_type": "code",
      "metadata": {
        "id": "dKvGZZHhLUMy",
        "outputId": "9073d547-35c7-46ce-8518-c95f98d6a6d5",
        "colab": {
          "base_uri": "https://localhost:8080/",
          "height": 35
        }
      },
      "source": [
        "import mi_modulo as patito\n",
        "\n",
        "print(patito.sumar( 4 , 6))"
      ],
      "execution_count": 9,
      "outputs": [
        {
          "output_type": "stream",
          "text": [
            "10\n"
          ],
          "name": "stdout"
        }
      ]
    },
    {
      "cell_type": "code",
      "metadata": {
        "id": "V2b8FAF4OCdI"
      },
      "source": [
        "from joke_generator import generate\n",
        "\n",
        "generate()\n"
      ],
      "execution_count": null,
      "outputs": []
    },
    {
      "cell_type": "markdown",
      "metadata": {
        "id": "AA80IU6RSQnq"
      },
      "source": [
        "# Archivos\n",
        "\n",
        "- open( str, str)\n",
        "    1. Nombre o ruta del archivo\n",
        "    2. dos caracteres \n",
        "        - modo de apertura del( r, w ,  a :append si y solo existe,\n",
        "        x : append si y solo si el archivo no existe)\n",
        "        -Formato del archivo(t o b)"
      ]
    },
    {
      "cell_type": "code",
      "metadata": {
        "id": "diN-KbQ2S21a"
      },
      "source": [
        "archivo = open(\"saludo.txt\", \"wt\")\n",
        "archivo.write(\"Hola mundo \\n 0la ke aze\")\n",
        "archivo.close()"
      ],
      "execution_count": 6,
      "outputs": []
    },
    {
      "cell_type": "markdown",
      "metadata": {
        "id": "lWwFUaLoYZ8s"
      },
      "source": [
        ""
      ]
    },
    {
      "cell_type": "code",
      "metadata": {
        "id": "VusGTLSZUeeW"
      },
      "source": [
        "otro = open(\"./sample_data/anscombe.json\", \"rt\")\n",
        "datos = otro.read()\n",
        "print(datos)\n",
        "otro.close()\n",
        "\n"
      ],
      "execution_count": null,
      "outputs": []
    },
    {
      "cell_type": "code",
      "metadata": {
        "id": "hgG9toyCWVOz",
        "outputId": "ce6e4fff-de93-49df-8207-0c3de0d0cf6d",
        "colab": {
          "base_uri": "https://localhost:8080/",
          "height": 165
        }
      },
      "source": [
        "arch = open(\"frutas.txt\", \"rt\")\n",
        "data = \"ppp\"\n",
        "while(data != \"\"):\n",
        "    data = arch.readline()\n",
        "    print(data)\n",
        "arch.close()\n",
        "\n",
        "arch= open(\"frutas.txt\", \"rt\")\n",
        "list_frutas = arch.readlines()\n",
        "print(list_frutas)\n",
        "arch.close()"
      ],
      "execution_count": 11,
      "outputs": [
        {
          "output_type": "stream",
          "text": [
            "manzana, pera, kiwi, aguacate\n",
            "\n",
            "limon, naranja\n",
            "\n",
            "sandia, papaya\n",
            "\n",
            "\n",
            "['manzana, pera, kiwi, aguacate\\n', 'limon, naranja\\n', 'sandia, papaya\\n']\n"
          ],
          "name": "stdout"
        }
      ]
    },
    {
      "cell_type": "code",
      "metadata": {
        "id": "ovy001PgY9pi"
      },
      "source": [
        ""
      ],
      "execution_count": null,
      "outputs": []
    }
  ]
}
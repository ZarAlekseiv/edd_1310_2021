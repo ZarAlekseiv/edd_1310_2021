{
  "nbformat": 4,
  "nbformat_minor": 0,
  "metadata": {
    "colab": {
      "name": "12noviembre_1310.ipynb",
      "provenance": [],
      "collapsed_sections": [],
      "authorship_tag": "ABX9TyOzuW7qRtRE6O/d8Cl4LAkV",
      "include_colab_link": true
    },
    "kernelspec": {
      "name": "python3",
      "display_name": "Python 3"
    }
  },
  "cells": [
    {
      "cell_type": "markdown",
      "metadata": {
        "id": "view-in-github",
        "colab_type": "text"
      },
      "source": [
        "<a href=\"https://colab.research.google.com/github/ZarAlekseiv/edd_1310_2021/blob/master/12noviembre_1310.ipynb\" target=\"_parent\"><img src=\"https://colab.research.google.com/assets/colab-badge.svg\" alt=\"Open In Colab\"/></a>"
      ]
    },
    {
      "cell_type": "code",
      "metadata": {
        "id": "lkuU-bgpz1GK",
        "outputId": "98815a81-1b82-4ead-c408-0c524a2e4859",
        "colab": {
          "base_uri": "https://localhost:8080/"
        }
      },
      "source": [
        "class Nodo:\n",
        "    def __init__(self , dato):\n",
        "        self.dato = dato\n",
        "        self.siguiente = None\n",
        "\n",
        "#Ejemplo 1 un solo elemento\n",
        "a = Nodo(12)\n",
        "print(a.dato)\n",
        "print(a.siguiente)\n",
        "\n",
        "#Ejemplo 2\n",
        "a.siguiente = Nodo(20)\n",
        "\n",
        "#Ejemplo 3\n",
        "a.siguiente.siguiente = Nodo(30)\n",
        "\n",
        "#Ejemplo 4\n",
        "a.siguiente.siguiente.siguiente = Nodo(40)\n",
        "\n",
        "#Ejemplo 5\n",
        "a.siguiente.siguiente.siguiente.siguiente = Nodo(50)\n",
        "\n",
        "#eliminando Nodo 30 ejemplo 6      Nodo 30 = Nodo 40\n",
        "a.siguiente.siguiente = a.siguiente.siguiente.siguiente\n",
        "\n",
        "#eliminando Nodos intermedios  12 --> 50 ejemplo \n",
        "#a.siguiente= a.siguiente.siguiente.siguiente\n",
        "\n",
        "#Ejemplo 7 #\n",
        "a.siguiente.siguiente.siguiente.dato = (45)\n",
        "\n",
        "#ejemplo 8 insertar dato\n",
        "tmp = a.siguiente.siguiente.siguiente #Se crea el temporal para no perder referencia\n",
        "a.siguiente.siguiente.siguiente = Nodo (48) # Se crea el nodo que ira entrer el 45 y el 50 para que no se pierda \n",
        "a.siguiente.siguiente.siguiente.siguiente = tmp\n",
        "\n",
        "#corrida Transversal P I V O T E\n",
        "curr_node = a\n",
        "print(curr_node.dato , \"-->\" , end = \"\")\n",
        "while(curr_node.siguiente !=None):\n",
        "      curr_node = curr_node.siguiente\n",
        "      print(curr_node.dato, \"-->\" , end = \"\")\n",
        "print(\"\")\n",
        "\n"
      ],
      "execution_count": 1,
      "outputs": [
        {
          "output_type": "stream",
          "text": [
            "12\n",
            "None\n",
            "12 -->20 -->40 -->48 -->45 -->\n"
          ],
          "name": "stdout"
        }
      ]
    }
  ]
}
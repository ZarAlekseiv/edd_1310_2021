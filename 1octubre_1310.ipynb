{
  "nbformat": 4,
  "nbformat_minor": 0,
  "metadata": {
    "colab": {
      "name": "1octubre_1310.ipynb",
      "provenance": [],
      "collapsed_sections": [],
      "authorship_tag": "ABX9TyOvtW+YstdIT00hZ/9TUDz0",
      "include_colab_link": true
    },
    "kernelspec": {
      "name": "python3",
      "display_name": "Python 3"
    }
  },
  "cells": [
    {
      "cell_type": "markdown",
      "metadata": {
        "id": "view-in-github",
        "colab_type": "text"
      },
      "source": [
        "<a href=\"https://colab.research.google.com/github/ZarAlekseiv/edd_1310_2021/blob/master/1octubre_1310.ipynb\" target=\"_parent\"><img src=\"https://colab.research.google.com/assets/colab-badge.svg\" alt=\"Open In Colab\"/></a>"
      ]
    },
    {
      "cell_type": "code",
      "metadata": {
        "id": "gkv01kM47O40"
      },
      "source": [
        "escuela= \"FES Aragon\"\n",
        "print(escuela)\n",
        "print(\"-----\")\n",
        "edad = 13\n",
        "estatura = 1.67\n",
        "fumador = True\n",
        "frase = \"\"\"\n",
        "Esta es\n",
        "una\n",
        "frase \n",
        "de multiples lineas\n",
        "y tambien es \n",
        "un tipo de dato\n",
        "\"\"\"\n",
        "print(frase)\n",
        "\n",
        "nombre = \"jose\"\n",
        "nombre_completo = \"jose sosa cardenas\"\n",
        "\n"
      ],
      "execution_count": null,
      "outputs": []
    },
    {
      "cell_type": "markdown",
      "metadata": {
        "id": "x0oySKio7r3b"
      },
      "source": [
        "## Intro Python\n",
        "### Variables\n",
        "tipo dinamico\n",
        "escuela = \"FES Aragón\"\n",
        "\n",
        "#Print\n",
        "con comas,\n",
        "con signo mas +\n",
        "con format()\n",
        "con el operador f\"\"\n"
      ]
    },
    {
      "cell_type": "code",
      "metadata": {
        "id": "BO21Rran-BMr"
      },
      "source": [
        "\n",
        "print(nombre, edad)\n"
      ],
      "execution_count": null,
      "outputs": []
    },
    {
      "cell_type": "code",
      "metadata": {
        "id": "o5lva7u8_B0R"
      },
      "source": [
        "# + concatena\n",
        "print(nombre+ str(edad))\n",
        "print(nombre+nombre_completo)"
      ],
      "execution_count": null,
      "outputs": []
    },
    {
      "cell_type": "code",
      "metadata": {
        "id": "nNYvGr4AANEc"
      },
      "source": [
        "# con formato -> Su nombre: Jose y su edad es 13 años.\n",
        "print(\"Su nombre es\", nombre,\"y su edad es de\",edad,\"años.\")\n",
        "print(\"Su nombre es {0} y su edad es de {1} años.\".format(nombre, edad) )\n",
        "print(\"Su nombre es {1} y su edad es de {0} años.\".format(nombre, edad) )"
      ],
      "execution_count": null,
      "outputs": []
    },
    {
      "cell_type": "code",
      "metadata": {
        "id": "iXVGPSm4BgYN",
        "outputId": "71265bed-e824-454f-bfc9-7ee3b3b41236",
        "colab": {
          "base_uri": "https://localhost:8080/",
          "height": 192
        }
      },
      "source": [
        "#Con formato con el operado f\"\"\"\n",
        "print(f\"Su nombre es {nombre} y su edad es de {edad} años.\")"
      ],
      "execution_count": null,
      "outputs": [
        {
          "output_type": "error",
          "ename": "TypeError",
          "evalue": "ignored",
          "traceback": [
            "\u001b[0;31m---------------------------------------------------------------------------\u001b[0m",
            "\u001b[0;31mTypeError\u001b[0m                                 Traceback (most recent call last)",
            "\u001b[0;32m<ipython-input-56-d2e0e4ab5635>\u001b[0m in \u001b[0;36m<module>\u001b[0;34m()\u001b[0m\n\u001b[1;32m      1\u001b[0m \u001b[0;31m#Con formato con el operado f\"\"\"\u001b[0m\u001b[0;34m\u001b[0m\u001b[0;34m\u001b[0m\u001b[0;34m\u001b[0m\u001b[0m\n\u001b[0;32m----> 2\u001b[0;31m \u001b[0mprint\u001b[0m\u001b[0;34m(\u001b[0m\u001b[0;34mf\"Su nombre es {nombre} y su edad es de {edad} años.\"\u001b[0m\u001b[0;34m)\u001b[0m\u001b[0;34m\u001b[0m\u001b[0;34m\u001b[0m\u001b[0m\n\u001b[0m",
            "\u001b[0;31mTypeError\u001b[0m: 'str' object is not callable"
          ]
        }
      ]
    },
    {
      "cell_type": "markdown",
      "metadata": {
        "id": "R-_CQhltCOKB"
      },
      "source": [
        "#Carater de escape\n",
        "\\ n Salto de linea\n",
        "\\ t Tabulador\n",
        "\\ a beep\n",
        "\\ \" Imprimir comilla doble\n",
        "\\ ' Imprimir comilla simple"
      ]
    },
    {
      "cell_type": "code",
      "metadata": {
        "id": "n3nd47T_DLeo"
      },
      "source": [
        "\"\"\"\n",
        "Esto es un comentario multiple de linea\n",
        "\"\"\"\n",
        "print(f\"\\tMi nombre es\\n\\t\\t {nombre}\")"
      ],
      "execution_count": null,
      "outputs": []
    },
    {
      "cell_type": "markdown",
      "metadata": {
        "id": "IfG0sPjKD9Td"
      },
      "source": [
        "#Ayuda de tipos de dato en python\n",
        "dir()\n",
        "help()\n",
        "#str, int, float, bool ... list, dict, set\n",
        "dir(str)\n",
        "help(str)"
      ]
    },
    {
      "cell_type": "code",
      "metadata": {
        "id": "ESS7jIqlELAl"
      },
      "source": [
        "#str, int, float, bool ... list, dict, set\n",
        "#help(str)"
      ],
      "execution_count": null,
      "outputs": []
    },
    {
      "cell_type": "code",
      "metadata": {
        "id": "wCLGe99HFNRT"
      },
      "source": [
        "print(nombre_completo.capitalize() )\n",
        "print(nombre_completo.upper(), end=\"----\" )\n",
        "print(nombre_completo.title() )"
      ],
      "execution_count": null,
      "outputs": []
    },
    {
      "cell_type": "code",
      "metadata": {
        "id": "8_No2JaLGE1-"
      },
      "source": [
        "help(print)"
      ],
      "execution_count": null,
      "outputs": []
    },
    {
      "cell_type": "markdown",
      "metadata": {
        "id": "cwQDyBXZHCRI"
      },
      "source": [
        "#CLASE STRING\n",
        "ES MANEJADA COMO UN ARREGLO (C O JAVA) O LISTA (PYTHON)\n",
        "telefono = \"Huawei mate 30 pro\"\n"
      ]
    },
    {
      "cell_type": "code",
      "metadata": {
        "id": "fSF8-6ldHFiC"
      },
      "source": [
        "telefono = \"Huawei mate 30 pro\"\n",
        "print(telefono[5:7] )"
      ],
      "execution_count": null,
      "outputs": []
    },
    {
      "cell_type": "code",
      "metadata": {
        "id": "Uk3Mddn6IhPg"
      },
      "source": [
        "print(telefono[7:11:1])\n",
        "#el inicio y el invremento son opcionales\n",
        "print(telefono[:11])\n",
        "#el valor por defecto de stop\n",
        "print(telefono[::])\n",
        "#incremento negativo\n",
        "print(telefono[::-1])\n",
        "#\n",
        "print(telefono[-3::1])\n"
      ],
      "execution_count": null,
      "outputs": []
    },
    {
      "cell_type": "markdown",
      "metadata": {
        "id": "ydDFSJNeIKqA"
      },
      "source": [
        "#slicing (rebanado)\n",
        "[ini:stop:incremento]\n",
        "nota: el stop no se incluye, termina en el valor anterior al stop"
      ]
    },
    {
      "cell_type": "markdown",
      "metadata": {
        "id": "uBZLXZcNNMqq"
      },
      "source": [
        "# Metodos de string (str)\n",
        "Existen metodos muy utiles en esta clase.\n",
        "facultad =    \"facultad de estudos superiores aragon     \"\n"
      ]
    },
    {
      "cell_type": "code",
      "metadata": {
        "id": "0JqBIPWqNs6R",
        "outputId": "85551843-989a-4584-8ca3-e1ffa09e138e",
        "colab": {
          "base_uri": "https://localhost:8080/",
          "height": 192
        }
      },
      "source": [
        "facultad = \"     facultad de estudos superiores aragon     \"\n",
        "print(facultad.count(\"s\"))#cuenta\n",
        "print(facultad.find(\"u\"))#encuentra\n",
        "prit(facultad.strip())#borra espacios en blanco y saltos de linea\n",
        "print(len(facultad))\n",
        "tamaño= len(facultad)\n",
        "print(f\"tamaño de la cadena es {tamaño} caracteres\")\n",
        "print(facultad)\n",
        "print(facultad.strip().split(\"\"))\n",
        "\n",
        "#copiar cadena\n",
        "otra_cadena = facultad\n",
        "print(otra_cadena)\n",
        "otra_cadena = \"FES ARAGON\"\n",
        "\n",
        "#copiar listas\n",
        "colores = [rojo, verde]\n",
        "otra= colores.copy\n",
        "print(colores)\n",
        "print(otra)\n",
        "otra.append(\"rosa\")"
      ],
      "execution_count": 58,
      "outputs": [
        {
          "output_type": "error",
          "ename": "TypeError",
          "evalue": "ignored",
          "traceback": [
            "\u001b[0;31m---------------------------------------------------------------------------\u001b[0m",
            "\u001b[0;31mTypeError\u001b[0m                                 Traceback (most recent call last)",
            "\u001b[0;32m<ipython-input-58-5b3bdcbfc5a5>\u001b[0m in \u001b[0;36m<module>\u001b[0;34m()\u001b[0m\n\u001b[1;32m      1\u001b[0m \u001b[0mfacultad\u001b[0m \u001b[0;34m=\u001b[0m \u001b[0;34m\"     facultad de estudos superiores aragon     \"\u001b[0m\u001b[0;34m\u001b[0m\u001b[0;34m\u001b[0m\u001b[0m\n\u001b[0;32m----> 2\u001b[0;31m \u001b[0mprint\u001b[0m\u001b[0;34m(\u001b[0m\u001b[0mfacultad\u001b[0m\u001b[0;34m.\u001b[0m\u001b[0mcount\u001b[0m\u001b[0;34m(\u001b[0m\u001b[0;34m\"s\"\u001b[0m\u001b[0;34m)\u001b[0m\u001b[0;34m)\u001b[0m\u001b[0;34m\u001b[0m\u001b[0;34m\u001b[0m\u001b[0m\n\u001b[0m",
            "\u001b[0;31mTypeError\u001b[0m: 'str' object is not callable"
          ]
        }
      ]
    }
  ]
}
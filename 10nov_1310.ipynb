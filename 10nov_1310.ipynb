{
  "nbformat": 4,
  "nbformat_minor": 0,
  "metadata": {
    "colab": {
      "name": "10nov_1310.ipynb",
      "provenance": [],
      "collapsed_sections": [],
      "authorship_tag": "ABX9TyMQl0FTGaf7160p90/RVkSz",
      "include_colab_link": true
    },
    "kernelspec": {
      "name": "python3",
      "display_name": "Python 3"
    }
  },
  "cells": [
    {
      "cell_type": "markdown",
      "metadata": {
        "id": "view-in-github",
        "colab_type": "text"
      },
      "source": [
        "<a href=\"https://colab.research.google.com/github/ZarAlekseiv/edd_1310_2021/blob/master/10nov_1310.ipynb\" target=\"_parent\"><img src=\"https://colab.research.google.com/assets/colab-badge.svg\" alt=\"Open In Colab\"/></a>"
      ]
    },
    {
      "cell_type": "code",
      "metadata": {
        "id": "RbMq7oYLNHOr"
      },
      "source": [
        "class Nodo:\n",
        "    def __init__(self ,  dato):\n",
        "        self.__dato = dato\n",
        "        self.__siguiente = None\n",
        "\n",
        "    def get_dato(self):\n",
        "        return self.__dato\n",
        "\n",
        "    def set_dato( self , d):\n",
        "        self.__dato = d\n",
        "\n",
        "    def get_siguiente( self ):\n",
        "        return self.__siguiente\n",
        "\n",
        "    def set_siguiente ( self , d):\n",
        "        self.__siguiente = d\n",
        "\n",
        "\n",
        "    def show ( self):\n",
        "        curr_node = self #head\n",
        "        print(\" Inicio de la estructura ligada: \")\n",
        "        print(\"|\" + str(curr_node.get_dato()) + \"| -->\" , end = \"\" ) # ese imprime el valor de curr_node\n",
        "        while( curr_node.get_siguiente() !=None ): #pregunta si curr_node es igual o diferente de node\n",
        "            curr_node = curr_node.get_siguiente()\n",
        "            print(\"|\" + str(curr_node.get_dato()) + \"| -->\" , end = \"\")\n",
        "        print(\"\\nFin\")\n",
        "\n",
        "#Ejemplo 1\n",
        "a = Nodo(10)\n",
        "\n",
        "#Ejemplo 2\n",
        "a.set_siguiente( Nodo(20))\n",
        "a.show\n",
        "\n",
        "#Ejemplo 3\n",
        "a.get_siguiente().set_siguiente(Nodo(30))\n",
        "a.show()\n",
        "\n",
        "#Ejemplo 4\n",
        "a.get_siguiente().get_siguiente().set_siguiente(Nodo(40))\n",
        "a.show()\n",
        "\n",
        "#Ejemplo 5\n",
        "a.get_siguiente().get_siguiente().get_siguiente().set_siguiente( Nodo(50))\n",
        "a.show()\n",
        "\n",
        "#Cambiando Valores\n",
        "a.set_dato(12)\n",
        "a.show()\n",
        "\n",
        "#Ejemplo 7\n",
        "a.get_siguiente().get_siguiente().get_siguiente().set_dato(46)\n",
        "a.show()\n",
        "\n",
        "#Ejemplo 8\n",
        "a.get_siguiente().set_dato(25)\n",
        "a.show()\n",
        "\n",
        "a.get_siguiente().get_siguiente().get_siguiente().set_siguiente(None)\n",
        "a.show()\n"
      ],
      "execution_count": null,
      "outputs": []
    },
    {
      "cell_type": "code",
      "metadata": {
        "id": "jWe0btH-f8Uk"
      },
      "source": [
        "class Nodo:\n",
        "    def __init__(self , dato):\n",
        "        self.dato = dato\n",
        "        self.siguiente = None\n",
        "\n",
        "#Ejemplo\n",
        "a = Nodo(10)\n",
        "print(a.dato)\n",
        "print(a.siguiente)\n",
        "\n",
        "#corrida Transversal\n",
        "curr_node = a\n",
        "print(curr_node.dato , \"-->\" , end \"\")\n",
        "      curr_node = curr_Node.siguiente\n",
        "      print()"
      ],
      "execution_count": null,
      "outputs": []
    }
  ]
}
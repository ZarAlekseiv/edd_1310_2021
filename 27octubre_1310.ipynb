{
  "nbformat": 4,
  "nbformat_minor": 0,
  "metadata": {
    "colab": {
      "name": "27octubre_1310.ipynb",
      "provenance": [],
      "collapsed_sections": [],
      "authorship_tag": "ABX9TyNlmTwibEV+XOG3rvYNeHhF",
      "include_colab_link": true
    },
    "kernelspec": {
      "name": "python3",
      "display_name": "Python 3"
    }
  },
  "cells": [
    {
      "cell_type": "markdown",
      "metadata": {
        "id": "view-in-github",
        "colab_type": "text"
      },
      "source": [
        "<a href=\"https://colab.research.google.com/github/ZarAlekseiv/edd_1310_2021/blob/master/27octubre_1310.ipynb\" target=\"_parent\"><img src=\"https://colab.research.google.com/assets/colab-badge.svg\" alt=\"Open In Colab\"/></a>"
      ]
    },
    {
      "cell_type": "code",
      "metadata": {
        "id": "369-5q8SBvyE",
        "outputId": "21ce9a94-8e79-4c2f-f5d2-72823802d149",
        "colab": {
          "base_uri": "https://localhost:8080/",
          "height": 146
        }
      },
      "source": [
        "class Computadora:\n",
        "    def __init__( self , m , p ):  #son dos guion bajo es private\n",
        "        self.__marca = m\n",
        "        self.__procesador = p\n",
        "          #print(\"Creando el objeto...\")\n",
        "\n",
        "    def to_string( self ): #self ajustar para POO\n",
        "        return \"-Marca: \" + self.__marca + \" \\n-Procesador: \" + self.__procesador +\"\\n\"\n",
        "\n",
        "    def set_marca( self , m ):  #m = el valor que llamaremos\n",
        "        self.__marca = m\n",
        "\n",
        "    def get_marca( self ):\n",
        "        return self.__marca \n",
        "\n",
        "    def set_procesador( self , p ):  #p = el valor que llamaremos\n",
        "        self.__procesador = p\n",
        "\n",
        "    def get_procesador( self ):\n",
        "        return self.__procesador\n",
        "\n",
        "mi_pc = Computadora(\"Toshiba\" , \"Intel i7\"  )\n",
        "print(mi_pc.to_string())\n",
        "\n",
        "mi_pc.___marca = \" HP \" # intentando cambiar el valor private\n",
        "mi_pc.set_marca = \" HP.co \" #se sustituira el valor\n",
        "\n",
        "print(mi_pc.to_string())\n",
        "print( mi_pc.get_procesador())"
      ],
      "execution_count": null,
      "outputs": [
        {
          "output_type": "stream",
          "text": [
            "-Marca: Toshiba \n",
            "-Procesador: Intel i7\n",
            "\n",
            "-Marca: Toshiba \n",
            "-Procesador: Intel i7\n",
            "\n",
            "Intel i7\n"
          ],
          "name": "stdout"
        }
      ]
    },
    {
      "cell_type": "markdown",
      "metadata": {
        "id": "h4EmMnqhELEM"
      },
      "source": [
        "#Encapsulamiento Python 3\n",
        "## tradicional tipo Java\n",
        "    void setAtributo( vsl)\n",
        "    tipo getAtributo( )\n",
        "## estilo python 3\n",
        "UTILIZANDO DECORADORES \n",
        "  - @propety\n",
        "  - @atributo.setter\n",
        "  \n"
      ]
    },
    {
      "cell_type": "code",
      "metadata": {
        "id": "T77w0f2fH8tf"
      },
      "source": [
        "class Computadora:\n",
        "    def __init__( self , m , p):\n",
        "        self.marca = m # se manda llamar el decorador @propety\n",
        "        self.procesador = p #idem\n",
        "\n",
        "    @property\n",
        "    def marca(self ):\n",
        "        return self.__marca\n",
        "    @marca.setter\n",
        "    def marca( self , m):\n",
        "        print( \"En el setter de MARCA\")\n",
        "        self.__marca = m \n",
        "\n",
        "    @property\n",
        "    def procesador(self ):\n",
        "        return self.__procesador\n",
        "\n",
        "    @procesador.setter\n",
        "    def procesador( self , p):\n",
        "        print( \"En el método de procesador\")\n",
        "        self.__procesador = p\n",
        "\n",
        "    def to_string( self ):\n",
        "        return \"-Marca: \" + self.marca + \" -Procesador: \" + self.procesador + \" \\n \"\n",
        "\n",
        "mi_pc2 = Computadora( \"Mac Book Pro\" , \"Intel i7\" )\n",
        "print(mi_pc2.to_string())\n",
        "\n",
        "mi_pc2.marca = \"Dell\"\n",
        "print(mi_pc2.to_string())\n",
        "\n",
        "mi_pc2.procesador = \"AMD\"\n",
        "print(mi_pc2.to_string())\n"
      ],
      "execution_count": null,
      "outputs": []
    },
    {
      "cell_type": "code",
      "metadata": {
        "id": "25xGfj3DQ-yj",
        "outputId": "3801b684-dc32-417a-c964-9b976b5fdbcf",
        "colab": {
          "base_uri": "https://localhost:8080/",
          "height": 109
        }
      },
      "source": [
        "# herencia , pasando la clase base a la declaracion\n",
        "    #Se herda de la ultima que se ejecuto\n",
        "\n",
        "class ServidorEmpresarial( Computadora ):\n",
        "    def __init__( self ):\n",
        "        print( \"Hola, servidor\")\n",
        "\n",
        "server = ServidorEmpresarial()\n",
        "server.marca = \"Sun Micro Systems\"\n",
        "server.procesador = \"Intel i7\"\n",
        "\n",
        "print(server.to_string())"
      ],
      "execution_count": null,
      "outputs": [
        {
          "output_type": "stream",
          "text": [
            "Hola, servidor\n",
            "En el setter de MARCA\n",
            "En el método de procesador\n",
            "-Marca: Sun Micro Systems -Procesador: Intel i7 \n",
            " \n"
          ],
          "name": "stdout"
        }
      ]
    }
  ]
}